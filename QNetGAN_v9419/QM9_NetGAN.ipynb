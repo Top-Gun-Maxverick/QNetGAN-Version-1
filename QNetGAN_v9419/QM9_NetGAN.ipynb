{
 "cells": [
  {
   "cell_type": "markdown",
   "metadata": {
    "id": "VpxaX5KJaCQu"
   },
   "source": [
    "### Install Python 3.10.8 because Colab is a boomer"
   ]
  },
  {
   "cell_type": "code",
   "execution_count": 1,
   "metadata": {},
   "outputs": [
    {
     "name": "stdout",
     "output_type": "stream",
     "text": [
      "Python 3.10.8\r\n"
     ]
    }
   ],
   "source": [
    "!python --version"
   ]
  },
  {
   "cell_type": "markdown",
   "metadata": {
    "id": "MIL_Q-mUkMpI"
   },
   "source": [
    "### Install and import a bunch of libraries and modules\n",
    "\n",
    "<html>\n",
    "<ol>\n",
    "<li>PyTorch and submodules (Python machine learning library)</li>\n",
    "<li>PyTorch Geometric (machine learning library for graph-based learning)</li>\n",
    "<li>Matplotlib (drawing and plotting library)</li>\n",
    "<li>NetworkX (Python data science/network/graph library)</li>\n",
    "</ol>"
   ]
  },
  {
   "cell_type": "code",
   "execution_count": 2,
   "metadata": {
    "id": "3_5qrhNIMMiz"
   },
   "outputs": [],
   "source": [
    "import torch\n",
    "import torch.nn as nn\n",
    "from torch_geometric import *"
   ]
  },
  {
   "cell_type": "code",
   "execution_count": 3,
   "metadata": {
    "id": "tIRC7tUKMVke"
   },
   "outputs": [],
   "source": [
    "from torch_geometric.datasets import QM9, ZINC, MoleculeNet"
   ]
  },
  {
   "cell_type": "code",
   "execution_count": 4,
   "metadata": {
    "id": "pq2XYb0wMpnN"
   },
   "outputs": [],
   "source": [
    "from torch_geometric.data import *"
   ]
  },
  {
   "cell_type": "code",
   "execution_count": 5,
   "metadata": {
    "id": "lkZuMHODIIpV"
   },
   "outputs": [],
   "source": [
    "from torch_geometric.utils.convert import to_networkx"
   ]
  },
  {
   "cell_type": "code",
   "execution_count": 6,
   "metadata": {
    "id": "fxmcPWrpI4cQ"
   },
   "outputs": [],
   "source": [
    "import matplotlib.pyplot as plt\n",
    "import networkx as nx"
   ]
  },
  {
   "cell_type": "code",
   "execution_count": 7,
   "metadata": {
    "id": "vLIjZZf52Dtf"
   },
   "outputs": [],
   "source": [
    "from torch_geometric.transforms import NormalizeFeatures"
   ]
  },
  {
   "cell_type": "code",
   "execution_count": 8,
   "metadata": {
    "id": "etoBHEuNSWzJ"
   },
   "outputs": [],
   "source": [
    "import scipy\n",
    "import scipy.io"
   ]
  },
  {
   "cell_type": "markdown",
   "metadata": {
    "id": "7il0DFPVLQSh"
   },
   "source": [
    "### The QM9 Dataset\n",
    "Loads the QM9 Dataset -- a datset with 134K organic molecules -- from the PyTorch Geometric `datasets` submodule.  \n",
    "This dataset contains all the molecules represented in a graphical format, where atoms are vertices and edges are bonds between atoms."
   ]
  },
  {
   "cell_type": "markdown",
   "metadata": {},
   "source": [
    "Problem: cannot download the QM9 dataset it seems, everything else is working perfectly"
   ]
  },
  {
   "cell_type": "code",
   "execution_count": 9,
   "metadata": {
    "colab": {
     "base_uri": "https://localhost:8080/"
    },
    "id": "6CxZgZl412St",
    "outputId": "42feaf8a-20d0-44c8-b4ef-834cbe937c99",
    "scrolled": true
   },
   "outputs": [],
   "source": [
    "dataset = QM9('', transform=None, pre_transform=None, pre_filter=None)"
   ]
  },
  {
   "cell_type": "markdown",
   "metadata": {
    "id": "0JaIjygRn-hE"
   },
   "source": [
    "⬇️ Function that gets information about a molecule from the dataset"
   ]
  },
  {
   "cell_type": "code",
   "execution_count": 10,
   "metadata": {
    "id": "AfGLCxXp0_ue"
   },
   "outputs": [],
   "source": [
    "def get_info(idx: int):\n",
    "    data = dataset[idx]\n",
    "    print(f'Number of nodes: {data.num_nodes}')\n",
    "    print(f'Number of edges: {data.num_edges}')\n",
    "    print(f'Average node degree: {data.num_edges / data.num_nodes:.2f}')\n",
    "    print(f'Has isolated nodes: {data.has_isolated_nodes()}')\n",
    "    print(f'Has self-loops: {data.has_self_loops()}')\n",
    "    print(f'Is undirected: {data.is_undirected()}')\n",
    "    return data"
   ]
  },
  {
   "cell_type": "markdown",
   "metadata": {
    "id": "wM_EUU8ooR_d"
   },
   "source": [
    "⬇️ Function that prints the data associated with the molecule"
   ]
  },
  {
   "cell_type": "code",
   "execution_count": 11,
   "metadata": {
    "id": "qzm3L2mOKpKg"
   },
   "outputs": [],
   "source": [
    "def mol_info(data):\n",
    "    for prop in data: print(prop)"
   ]
  },
  {
   "cell_type": "markdown",
   "metadata": {
    "id": "w-1I5a0spQjC"
   },
   "source": [
    "⬇️ Function that draws the graphical representation of the molecule"
   ]
  },
  {
   "cell_type": "code",
   "execution_count": 12,
   "metadata": {
    "id": "oP8IbdShKuhL"
   },
   "outputs": [],
   "source": [
    "def draw_mol(data):\n",
    "    vis = to_networkx(data)\n",
    "    plt.figure(1, figsize=(8,8))\n",
    "    nx.draw(vis)\n",
    "    plt.show()"
   ]
  },
  {
   "cell_type": "markdown",
   "metadata": {
    "id": "_ihzJrthph8e"
   },
   "source": [
    "Create a **Dataset Loader** class for O.O.P purposes"
   ]
  },
  {
   "cell_type": "code",
   "execution_count": 13,
   "metadata": {
    "id": "dbnJjmVxprfx"
   },
   "outputs": [],
   "source": [
    "class DatasetLoader:\n",
    "    def __init__(self):\n",
    "        self.dataset = dataset\n",
    "        self.name = \"Dataset Loader\"\n",
    "\n",
    "    def get_info(self, idx: int):\n",
    "        data = self.dataset[idx]\n",
    "        print(f'Number of nodes: {data.num_nodes}')\n",
    "        print(f'Number of edges: {data.num_edges}')\n",
    "        print(f'Average node degree: {data.num_edges / data.num_nodes:.2f}')\n",
    "        print(f'Has isolated nodes: {data.has_isolated_nodes()}')\n",
    "        print(f'Has self-loops: {data.has_self_loops()}')\n",
    "        print(f'Is undirected: {data.is_undirected()}')\n",
    "        \n",
    "    def mol_info(self, data):\n",
    "        for prop in data: print(prop)\n",
    "\n",
    "    def draw_mol(self, data):\n",
    "        vis = to_networkx(data)\n",
    "        plt.figure(1, figsize=(8,8))\n",
    "        nx.draw(vis)\n",
    "        plt.show()\n",
    "\n",
    "    def __len__(self) -> int:\n",
    "        return len(self.dataset) #13081\n",
    "\n",
    "    def __getitem__(self, idx, verbose=False, draw=False):\n",
    "        if verbose:\n",
    "            self.get_info(idx)\n",
    "            print()\n",
    "        data = self.dataset[idx]\n",
    "        self.mol_info(data)\n",
    "        if draw:\n",
    "            print()\n",
    "            self.draw_mol(data)\n",
    "        return data"
   ]
  },
  {
   "cell_type": "code",
   "execution_count": 14,
   "metadata": {
    "id": "r4Q-CNzbrZni"
   },
   "outputs": [],
   "source": [
    "DL = DatasetLoader()"
   ]
  },
  {
   "cell_type": "code",
   "execution_count": 15,
   "metadata": {
    "colab": {
     "base_uri": "https://localhost:8080/",
     "height": 1000
    },
    "id": "VFXBuUsFre3s",
    "outputId": "d581aecf-8654-499e-974d-9711ea6cfffa",
    "scrolled": true
   },
   "outputs": [
    {
     "name": "stdout",
     "output_type": "stream",
     "text": [
      "('x', tensor([[0., 1., 0., 0., 0., 6., 0., 0., 0., 0., 4.],\n",
      "        [1., 0., 0., 0., 0., 1., 0., 0., 0., 0., 0.],\n",
      "        [1., 0., 0., 0., 0., 1., 0., 0., 0., 0., 0.],\n",
      "        [1., 0., 0., 0., 0., 1., 0., 0., 0., 0., 0.],\n",
      "        [1., 0., 0., 0., 0., 1., 0., 0., 0., 0., 0.]]))\n",
      "('edge_index', tensor([[0, 0, 0, 0, 1, 2, 3, 4],\n",
      "        [1, 2, 3, 4, 0, 0, 0, 0]]))\n",
      "('edge_attr', tensor([[1., 0., 0., 0.],\n",
      "        [1., 0., 0., 0.],\n",
      "        [1., 0., 0., 0.],\n",
      "        [1., 0., 0., 0.],\n",
      "        [1., 0., 0., 0.],\n",
      "        [1., 0., 0., 0.],\n",
      "        [1., 0., 0., 0.],\n",
      "        [1., 0., 0., 0.]]))\n",
      "('y', tensor([[    0.0000,    13.2100,   -10.5499,     3.1865,    13.7363,    35.3641,\n",
      "             1.2177, -1101.4878, -1101.4098, -1101.3840, -1102.0229,     6.4690,\n",
      "           -17.1722,   -17.2868,   -17.3897,   -16.1519,   157.7118,   157.7100,\n",
      "           157.7070]]))\n",
      "('pos', tensor([[-1.2700e-02,  1.0858e+00,  8.0000e-03],\n",
      "        [ 2.2000e-03, -6.0000e-03,  2.0000e-03],\n",
      "        [ 1.0117e+00,  1.4638e+00,  3.0000e-04],\n",
      "        [-5.4080e-01,  1.4475e+00, -8.7660e-01],\n",
      "        [-5.2380e-01,  1.4379e+00,  9.0640e-01]]))\n",
      "('z', tensor([6, 1, 1, 1, 1]))\n",
      "('name', 'gdb_1')\n",
      "('idx', tensor([0]))\n",
      "\n"
     ]
    },
    {
     "data": {
      "image/png": "[encoded data removed]",
      "text/plain": [
       "<Figure size 800x800 with 1 Axes>"
      ]
     },
     "metadata": {},
     "output_type": "display_data"
    },
    {
     "data": {
      "text/plain": [
       "Data(x=[5, 11], edge_index=[2, 8], edge_attr=[8, 4], y=[1, 19], pos=[5, 3], z=[5], name='gdb_1', idx=[1])"
      ]
     },
     "execution_count": 15,
     "metadata": {},
     "output_type": "execute_result"
    }
   ],
   "source": [
    "DL.__getitem__(0, verbose=False, draw=True)"
   ]
  },
  {
   "cell_type": "markdown",
   "metadata": {
    "id": "GkCQfTgVp0r5"
   },
   "source": [
    "### Get the NetGAN model"
   ]
  },
  {
   "cell_type": "markdown",
   "metadata": {
    "id": "KbKJ5KSwqBGU"
   },
   "source": [
    "Clone the repository; using original NetGAN"
   ]
  },
  {
   "cell_type": "markdown",
   "metadata": {
    "id": "5aW-dzkgqREa"
   },
   "source": [
    "Better way to access models:"
   ]
  },
  {
   "cell_type": "code",
   "execution_count": 16,
   "metadata": {
    "id": "tV4_vnS4RCvF"
   },
   "outputs": [],
   "source": [
    "import sys\n",
    "sys.path.insert(1, 'netgan_pytorch/netgan')"
   ]
  },
  {
   "cell_type": "code",
   "execution_count": 17,
   "metadata": {
    "id": "O7AXdf8ZPbG6"
   },
   "outputs": [],
   "source": [
    "from models import *"
   ]
  },
  {
   "cell_type": "code",
   "execution_count": 18,
   "metadata": {
    "id": "YmH8fBIptH06"
   },
   "outputs": [],
   "source": [
    "from utils import *"
   ]
  },
  {
   "cell_type": "code",
   "execution_count": 19,
   "metadata": {
    "id": "GxHbgpATSNFg"
   },
   "outputs": [],
   "source": [
    "from training import *"
   ]
  },
  {
   "cell_type": "markdown",
   "metadata": {
    "id": "5e3tZdB7uT7t"
   },
   "source": [
    "### Convert PyG data to Scipy Sparse Matrix"
   ]
  },
  {
   "cell_type": "code",
   "execution_count": 20,
   "metadata": {
    "id": "SKXCGtIFuXwy"
   },
   "outputs": [],
   "source": [
    "def pyg_to_ssm(idx: int, v: bool=False, d: bool=False):\n",
    "    sample = DL.__getitem__(idx, verbose=v, draw=d)\n",
    "    sample = to_networkx(sample)\n",
    "    sample_mat = nx.to_scipy_sparse_matrix(sample)\n",
    "    return sample, sample_mat"
   ]
  },
  {
   "cell_type": "code",
   "execution_count": 34,
   "metadata": {
    "id": "PiXm-0l9XFkU",
    "scrolled": true
   },
   "outputs": [
    {
     "name": "stdout",
     "output_type": "stream",
     "text": [
      "('x', tensor([[0., 1., 0., 0., 0., 6., 0., 0., 0., 0., 3.],\n",
      "        [0., 0., 0., 1., 0., 8., 0., 0., 0., 0., 0.],\n",
      "        [0., 1., 0., 0., 0., 6., 0., 0., 0., 0., 1.],\n",
      "        [0., 1., 0., 0., 0., 6., 0., 0., 0., 0., 1.],\n",
      "        [0., 1., 0., 0., 0., 6., 0., 0., 0., 0., 2.],\n",
      "        [0., 1., 0., 0., 0., 6., 0., 0., 0., 0., 1.],\n",
      "        [0., 1., 0., 0., 0., 6., 0., 0., 0., 0., 2.],\n",
      "        [0., 1., 0., 0., 0., 6., 0., 0., 0., 0., 2.],\n",
      "        [1., 0., 0., 0., 0., 1., 0., 0., 0., 0., 0.],\n",
      "        [1., 0., 0., 0., 0., 1., 0., 0., 0., 0., 0.],\n",
      "        [1., 0., 0., 0., 0., 1., 0., 0., 0., 0., 0.],\n",
      "        [1., 0., 0., 0., 0., 1., 0., 0., 0., 0., 0.],\n",
      "        [1., 0., 0., 0., 0., 1., 0., 0., 0., 0., 0.],\n",
      "        [1., 0., 0., 0., 0., 1., 0., 0., 0., 0., 0.],\n",
      "        [1., 0., 0., 0., 0., 1., 0., 0., 0., 0., 0.],\n",
      "        [1., 0., 0., 0., 0., 1., 0., 0., 0., 0., 0.],\n",
      "        [1., 0., 0., 0., 0., 1., 0., 0., 0., 0., 0.],\n",
      "        [1., 0., 0., 0., 0., 1., 0., 0., 0., 0., 0.],\n",
      "        [1., 0., 0., 0., 0., 1., 0., 0., 0., 0., 0.],\n",
      "        [1., 0., 0., 0., 0., 1., 0., 0., 0., 0., 0.]]))\n",
      "('edge_index', tensor([[ 0,  0,  0,  0,  1,  1,  2,  2,  2,  2,  3,  3,  3,  3,  4,  4,  4,  4,\n",
      "          5,  5,  5,  5,  6,  6,  6,  6,  7,  7,  7,  7,  8,  9, 10, 11, 12, 13,\n",
      "         14, 15, 16, 17, 18, 19],\n",
      "        [ 1,  8,  9, 10,  0,  2,  1,  3,  5, 11,  2,  4,  7, 12,  3,  5, 13, 14,\n",
      "          2,  4,  6, 15,  5,  7, 16, 17,  3,  6, 18, 19,  0,  0,  0,  2,  3,  4,\n",
      "          4,  5,  6,  6,  7,  7]]))\n",
      "('edge_attr', tensor([[1., 0., 0., 0.],\n",
      "        [1., 0., 0., 0.],\n",
      "        [1., 0., 0., 0.],\n",
      "        [1., 0., 0., 0.],\n",
      "        [1., 0., 0., 0.],\n",
      "        [1., 0., 0., 0.],\n",
      "        [1., 0., 0., 0.],\n",
      "        [1., 0., 0., 0.],\n",
      "        [1., 0., 0., 0.],\n",
      "        [1., 0., 0., 0.],\n",
      "        [1., 0., 0., 0.],\n",
      "        [1., 0., 0., 0.],\n",
      "        [1., 0., 0., 0.],\n",
      "        [1., 0., 0., 0.],\n",
      "        [1., 0., 0., 0.],\n",
      "        [1., 0., 0., 0.],\n",
      "        [1., 0., 0., 0.],\n",
      "        [1., 0., 0., 0.],\n",
      "        [1., 0., 0., 0.],\n",
      "        [1., 0., 0., 0.],\n",
      "        [1., 0., 0., 0.],\n",
      "        [1., 0., 0., 0.],\n",
      "        [1., 0., 0., 0.],\n",
      "        [1., 0., 0., 0.],\n",
      "        [1., 0., 0., 0.],\n",
      "        [1., 0., 0., 0.],\n",
      "        [1., 0., 0., 0.],\n",
      "        [1., 0., 0., 0.],\n",
      "        [1., 0., 0., 0.],\n",
      "        [1., 0., 0., 0.],\n",
      "        [1., 0., 0., 0.],\n",
      "        [1., 0., 0., 0.],\n",
      "        [1., 0., 0., 0.],\n",
      "        [1., 0., 0., 0.],\n",
      "        [1., 0., 0., 0.],\n",
      "        [1., 0., 0., 0.],\n",
      "        [1., 0., 0., 0.],\n",
      "        [1., 0., 0., 0.],\n",
      "        [1., 0., 0., 0.],\n",
      "        [1., 0., 0., 0.],\n",
      "        [1., 0., 0., 0.],\n",
      "        [1., 0., 0., 0.]]))\n",
      "('y', tensor([[ 1.0063e+00,  7.4730e+01, -6.6151e+00,  2.4844e+00,  9.1022e+00,\n",
      "          9.6503e+02,  4.8746e+00, -9.4963e+03, -9.4961e+03, -9.4961e+03,\n",
      "         -9.4972e+03,  2.8733e+01, -8.1335e+01, -8.1906e+01, -8.2395e+01,\n",
      "         -7.5534e+01,  4.3272e+00,  1.5333e+00,  1.4752e+00]]))\n",
      "('pos', tensor([[ 0.1918,  1.3119,  0.1269],\n",
      "        [-0.2660,  0.0340, -0.2536],\n",
      "        [ 0.5063, -0.5553, -1.2675],\n",
      "        [ 1.8384, -1.2461, -0.8143],\n",
      "        [ 0.9321, -2.4012, -0.2948],\n",
      "        [ 0.0725, -2.0202, -1.5379],\n",
      "        [ 1.0018, -2.3997, -2.7047],\n",
      "        [ 2.3460, -1.8025, -2.1566],\n",
      "        [ 1.2011,  1.2806,  0.5629],\n",
      "        [ 0.2092,  2.0060, -0.7283],\n",
      "        [-0.5038,  1.6956,  0.8772],\n",
      "        [ 0.5743,  0.1222, -2.1347],\n",
      "        [ 2.5622, -0.7423, -0.1726],\n",
      "        [ 1.3590, -3.4079, -0.2563],\n",
      "        [ 0.4367, -2.1545,  0.6430],\n",
      "        [-0.9831, -2.2801, -1.6167],\n",
      "        [ 1.0521, -3.4815, -2.8547],\n",
      "        [ 0.6951, -1.9439, -3.6508],\n",
      "        [ 2.7523, -1.0215, -2.8068],\n",
      "        [ 3.1216, -2.5616, -2.0226]]))\n",
      "('z', tensor([6, 8, 6, 6, 6, 6, 6, 6, 1, 1, 1, 1, 1, 1, 1, 1, 1, 1, 1, 1]))\n",
      "('name', 'gdb_19479')\n",
      "('idx', tensor([19478]))\n"
     ]
    },
    {
     "name": "stderr",
     "output_type": "stream",
     "text": [
      "/var/folders/60/yjm0dhb14rx345qp3gt455mw0000gn/T/ipykernel_8553/3298640954.py:4: DeprecationWarning: \n",
      "\n",
      "The scipy.sparse array containers will be used instead of matrices\n",
      "in Networkx 3.0. Use `to_scipy_sparse_array` instead.\n",
      "  sample_mat = nx.to_scipy_sparse_matrix(sample)\n"
     ]
    }
   ],
   "source": [
    "not_ch4, not_methane = pyg_to_ssm(19147)"
   ]
  },
  {
   "cell_type": "code",
   "execution_count": 35,
   "metadata": {
    "colab": {
     "base_uri": "https://localhost:8080/"
    },
    "id": "NlwoLeR9Vvnf",
    "outputId": "3477586b-f4e5-47b8-baa0-049d746fa6be"
   },
   "outputs": [
    {
     "name": "stdout",
     "output_type": "stream",
     "text": [
      "DiGraph with 20 nodes and 42 edges\n"
     ]
    }
   ],
   "source": [
    "print(not_ch4)"
   ]
  },
  {
   "cell_type": "markdown",
   "metadata": {
    "id": "i0Afd2ucYDCv"
   },
   "source": [
    "### Now, let's try running NetGAN on a very small sample of the QM9 Dataset"
   ]
  },
  {
   "cell_type": "code",
   "execution_count": 36,
   "metadata": {},
   "outputs": [],
   "source": [
    "import io"
   ]
  },
  {
   "cell_type": "code",
   "execution_count": 37,
   "metadata": {},
   "outputs": [],
   "source": [
    "graph = nx.to_numpy_array(not_ch4)"
   ]
  },
  {
   "cell_type": "code",
   "execution_count": 38,
   "metadata": {
    "colab": {
     "base_uri": "https://localhost:8080/",
     "height": 354
    },
    "id": "pzm9n51iU5PZ",
    "outputId": "d29779d1-b7b7-4814-f7fa-e0cebc4432fb"
   },
   "outputs": [],
   "source": [
    "graph[graph!=0] = 1.0\n",
    "graph_nx = nx.from_numpy_array(graph)\n",
    "graph_sparse = scipy.sparse.csr_matrix(graph)\n",
    "n_edges = graph.sum()"
   ]
  },
  {
   "cell_type": "code",
   "execution_count": 39,
   "metadata": {},
   "outputs": [
    {
     "name": "stdout",
     "output_type": "stream",
     "text": [
      "This graph has 42.0 edges!\n"
     ]
    }
   ],
   "source": [
    "print(f\"This graph has {n_edges} edges!\")"
   ]
  },
  {
   "cell_type": "code",
   "execution_count": 40,
   "metadata": {},
   "outputs": [
    {
     "data": {
      "text/plain": [
       "<20x20 sparse matrix of type '<class 'numpy.float64'>'\n",
       "\twith 42 stored elements in Compressed Sparse Row format>"
      ]
     },
     "execution_count": 40,
     "metadata": {},
     "output_type": "execute_result"
    }
   ],
   "source": [
    "graph_sparse"
   ]
  },
  {
   "cell_type": "code",
   "execution_count": 41,
   "metadata": {},
   "outputs": [],
   "source": [
    "not_graph_sparse = scipy.sparse.tril(graph_sparse).tocsr()"
   ]
  },
  {
   "cell_type": "code",
   "execution_count": 42,
   "metadata": {},
   "outputs": [],
   "source": [
    "mst = scipy.sparse.csgraph.minimum_spanning_tree(not_graph_sparse)"
   ]
  },
  {
   "cell_type": "code",
   "execution_count": 43,
   "metadata": {},
   "outputs": [],
   "source": [
    "mst[mst > 1] = 1\n",
    "mst.eliminate_zeros()\n",
    "ihatethis = not_graph_sparse - mst"
   ]
  },
  {
   "cell_type": "code",
   "execution_count": 44,
   "metadata": {},
   "outputs": [
    {
     "name": "stdout",
     "output_type": "stream",
     "text": [
      "  (3, 2)\t1.0\n",
      "  (4, 3)\t1.0\n"
     ]
    }
   ],
   "source": [
    "print(ihatethis)"
   ]
  },
  {
   "cell_type": "code",
   "execution_count": 45,
   "metadata": {
    "colab": {
     "base_uri": "https://localhost:8080/",
     "height": 378
    },
    "id": "tqUVVsDuYCFg",
    "outputId": "4430d3c8-d9a0-4a6e-a623-2670806453cc",
    "scrolled": true
   },
   "outputs": [
    {
     "name": "stdout",
     "output_type": "stream",
     "text": [
      "  (0, 1)\t1.0\n",
      "  (0, 8)\t1.0\n",
      "  (0, 9)\t1.0\n",
      "  (0, 10)\t1.0\n",
      "  (1, 0)\t1.0\n",
      "  (1, 2)\t1.0\n",
      "  (2, 1)\t1.0\n",
      "  (2, 3)\t1.0\n",
      "  (2, 5)\t1.0\n",
      "  (2, 11)\t1.0\n",
      "  (3, 2)\t1.0\n",
      "  (3, 4)\t1.0\n",
      "  (3, 7)\t1.0\n",
      "  (3, 12)\t1.0\n",
      "  (4, 3)\t1.0\n",
      "  (4, 5)\t1.0\n",
      "  (4, 13)\t1.0\n",
      "  (4, 14)\t1.0\n",
      "  (5, 2)\t1.0\n",
      "  (5, 4)\t1.0\n",
      "  (5, 6)\t1.0\n",
      "  (5, 15)\t1.0\n",
      "  (6, 5)\t1.0\n",
      "  (6, 7)\t1.0\n",
      "  (6, 16)\t1.0\n",
      "  (6, 17)\t1.0\n",
      "  (7, 3)\t1.0\n",
      "  (7, 6)\t1.0\n",
      "  (7, 18)\t1.0\n",
      "  (7, 19)\t1.0\n",
      "  (8, 0)\t1.0\n",
      "  (9, 0)\t1.0\n",
      "  (10, 0)\t1.0\n",
      "  (11, 2)\t1.0\n",
      "  (12, 3)\t1.0\n",
      "  (13, 4)\t1.0\n",
      "  (14, 4)\t1.0\n",
      "  (15, 5)\t1.0\n",
      "  (16, 6)\t1.0\n",
      "  (17, 6)\t1.0\n",
      "  (18, 7)\t1.0\n",
      "  (19, 7)\t1.0\n",
      "This graph is connected\n",
      "idx_ones looks like [0 1]\n",
      "s_train is equal to -2\n",
      "test_ones looks like [[3 2]\n",
      " [4 3]]\n",
      "N_test is 2.\n",
      "test_zeros looks like [[19  8]\n",
      " [15  6]] with length 2.\n"
     ]
    }
   ],
   "source": [
    "trainer = Trainer(graph_sparse, len(graph), set_ops=False)"
   ]
  },
  {
   "cell_type": "code",
   "execution_count": 46,
   "metadata": {
    "scrolled": true
   },
   "outputs": [
    {
     "name": "stdout",
     "output_type": "stream",
     "text": [
      "**** Using VAL criterion for early stopping with max patience of: 5****\n",
      "iteration: 1      critic: 4.740941      gen 0.034860\n",
      "iteration: 11      critic: -0.013828      gen 0.128312\n",
      "iteration: 21      critic: -0.226317      gen 0.197859\n",
      "iteration: 31      critic: -0.382829      gen 0.062222\n",
      "iteration: 41      critic: -0.479268      gen 0.044928\n",
      "iteration: 51      critic: -0.618583      gen 0.118400\n",
      "iteration: 61      critic: -0.709022      gen 0.117098\n",
      "iteration: 71      critic: -0.760917      gen 0.073111\n",
      "iteration: 81      critic: -0.783035      gen 0.126586\n",
      "iteration: 91      critic: -0.880056      gen 0.203039\n",
      "1\n",
      "samples:[[ 0 17 11 17  0 18 15 10  3  4  2 13  6  5 12  6]\n",
      " [10 17  6  3 16 12  0 10  5  2  5  4  5  5  6  6]]\n",
      "roc: 0.5000   avp: 0.5000   eo: 0.2857\n",
      "Took 0.6705373684565227 minutes so far..\n",
      "iteration: 101      critic: -1.057739      gen 0.276793\n",
      "iteration: 111      critic: -1.130289      gen 0.357433\n",
      "iteration: 121      critic: -1.188545      gen 0.412069\n",
      "iteration: 131      critic: -1.258304      gen 0.423988\n",
      "iteration: 141      critic: -1.318402      gen 0.397842\n",
      "iteration: 151      critic: -1.305714      gen 0.470518\n",
      "iteration: 161      critic: -1.373256      gen 0.360151\n",
      "iteration: 171      critic: -1.412610      gen 0.357596\n",
      "iteration: 181      critic: -1.469117      gen 0.367644\n",
      "iteration: 191      critic: -1.454989      gen 0.363122\n",
      "1\n",
      "samples:[[15 17 11  1  2  1  0  5 18  7  5  2  1  3  2  5]\n",
      " [ 7 13  3  5 19 17 15  5 13  5  4  0  0  9  2  5]]\n",
      "roc: 1.0000   avp: 1.0000   eo: 0.3810\n",
      "Took 1.3405678510665893 minutes so far..\n",
      "iteration: 201      critic: -1.491618      gen 0.290438\n",
      "iteration: 211      critic: -1.484157      gen 0.335834\n",
      "iteration: 221      critic: -1.573831      gen 0.295840\n",
      "iteration: 231      critic: -1.600764      gen 0.246280\n",
      "iteration: 241      critic: -1.504601      gen 0.239992\n"
     ]
    },
    {
     "data": {
      "image/png": "[encoded data removed]",
      "text/plain": [
       "<Figure size 640x480 with 1 Axes>"
      ]
     },
     "metadata": {},
     "output_type": "display_data"
    },
    {
     "name": "stdout",
     "output_type": "stream",
     "text": [
      "iteration: 251      critic: -1.600619      gen 0.254178\n",
      "iteration: 261      critic: -1.531060      gen 0.257913\n",
      "iteration: 271      critic: -1.483022      gen 0.140393\n",
      "iteration: 281      critic: -1.455159      gen 0.167719\n",
      "iteration: 291      critic: -1.452889      gen 0.132640\n",
      "1\n",
      "samples:[[ 7  5  7  6  5 16 18 17  6  7  6  6 16  4 14  5]\n",
      " [18 12  3  6  0  7  2  6  6 15  7  3  7 12  5  7]]\n",
      "roc: 0.5000   avp: 0.5000   eo: 0.3333\n",
      "Took 2.041671168804169 minutes so far..\n",
      "iteration: 301      critic: -1.502358      gen 0.176883\n",
      "iteration: 311      critic: -1.482240      gen 0.128634\n",
      "iteration: 321      critic: -1.477469      gen 0.119442\n",
      "iteration: 331      critic: -1.486172      gen -0.002304\n",
      "iteration: 341      critic: -1.505392      gen 0.171026\n",
      "iteration: 351      critic: -1.483709      gen 0.069264\n",
      "iteration: 361      critic: -1.436061      gen 0.120740\n",
      "iteration: 371      critic: -1.413270      gen 0.072344\n",
      "iteration: 381      critic: -1.477934      gen 0.056580\n",
      "iteration: 391      critic: -1.472495      gen 0.122444\n",
      "1\n",
      "samples:[[ 3 12  7  0 18  6  0  7 19  6  7  6  6  3  3  7]\n",
      " [ 4  8 14  4  4  9  4  5  4  5 12  5 13  9 18 16]]\n",
      "roc: 0.5000   avp: 0.5000   eo: 0.2857\n",
      "Took 2.752201020717621 minutes so far..\n",
      "iteration: 401      critic: -1.494910      gen 0.133958\n",
      "iteration: 411      critic: -1.496666      gen 0.041278\n",
      "iteration: 421      critic: -1.483405      gen 0.190391\n",
      "iteration: 431      critic: -1.496504      gen 0.111650\n",
      "iteration: 441      critic: -1.474382      gen 0.060660\n",
      "iteration: 451      critic: -1.464874      gen 0.095487\n",
      "iteration: 461      critic: -1.534460      gen 0.207937\n",
      "iteration: 471      critic: -1.538916      gen 0.086015\n",
      "iteration: 481      critic: -1.505552      gen 0.091151\n",
      "iteration: 491      critic: -1.532944      gen 0.199497\n",
      "1\n",
      "samples:[[ 8  8  0  1 10  0 10  2  1  0  0  1  8  0  0 14]\n",
      " [18  4 14 15  2  4  2  4 14 13  3  2  4  9  2  4]]\n",
      "roc: 1.0000   avp: 1.0000   eo: 0.2857\n",
      "Took 3.4721587657928468 minutes so far..\n"
     ]
    },
    {
     "data": {
      "image/png": "[encoded data removed]",
      "text/plain": [
       "<Figure size 640x480 with 1 Axes>"
      ]
     },
     "metadata": {},
     "output_type": "display_data"
    },
    {
     "name": "stdout",
     "output_type": "stream",
     "text": [
      "iteration: 501      critic: -1.510925      gen 0.102468\n",
      "iteration: 511      critic: -1.490582      gen 0.111534\n",
      "iteration: 521      critic: -1.530962      gen 0.123494\n",
      "iteration: 531      critic: -1.547658      gen 0.109411\n",
      "iteration: 541      critic: -1.492110      gen 0.149498\n",
      "iteration: 551      critic: -1.531648      gen 0.213188\n",
      "iteration: 561      critic: -1.582872      gen 0.202360\n",
      "iteration: 571      critic: -1.582258      gen 0.143748\n",
      "iteration: 581      critic: -1.468418      gen 0.215008\n",
      "iteration: 591      critic: -1.548685      gen 0.215394\n",
      "1\n",
      "samples:[[ 5  3 16 19  7 12 18 17 19  7  6  6 18  7  7  7]\n",
      " [ 7  6  7 16  6  2  0  0  6  7  7  7  7  6 12 18]]\n",
      "roc: 0.5000   avp: 0.5000   eo: 0.1905\n",
      "Took 4.185195068518321 minutes so far..\n",
      "iteration: 601      critic: -1.544249      gen 0.146826\n",
      "iteration: 611      critic: -1.567042      gen 0.119754\n",
      "iteration: 621      critic: -1.550818      gen 0.217229\n",
      "iteration: 631      critic: -1.540053      gen 0.147602\n",
      "iteration: 641      critic: -1.494947      gen 0.197787\n",
      "iteration: 651      critic: -1.518711      gen 0.216390\n",
      "iteration: 661      critic: -1.541214      gen 0.204260\n",
      "iteration: 671      critic: -1.519231      gen 0.141093\n",
      "iteration: 681      critic: -1.488388      gen 0.177825\n",
      "iteration: 691      critic: -1.476561      gen 0.125245\n",
      "1\n",
      "samples:[[ 5  5 15  4 13  4 14  4 13  6  4 13 13  4 13  4]\n",
      " [ 7  7 18 17 17 16  7  7  7  3  7 12 19  7  7 19]]\n",
      "roc: 0.5000   avp: 0.5000   eo: 0.2857\n",
      "finished after 699 iterations\n",
      "Took 4.897204184532166 minutes so far..\n"
     ]
    }
   ],
   "source": [
    "trainer.train(create_graph_every=100, plot_graph_every=250, num_samples_graph=1010, stopping_criterion='val')"
   ]
  },
  {
   "cell_type": "markdown",
   "metadata": {},
   "source": [
    "### You Wouldn't Believe this but NetGAN Actually Works"
   ]
  },
  {
   "cell_type": "markdown",
   "metadata": {},
   "source": [
    "time to filter out all molecules which are their own MST so NetGAN doesn't crash"
   ]
  },
  {
   "cell_type": "code",
   "execution_count": 86,
   "metadata": {},
   "outputs": [],
   "source": [
    "def molecule_is_own_MST(graph):\n",
    "    graph = nx.to_numpy_array(graph)\n",
    "    graph[graph!=0] = 1.0\n",
    "    graph_nx = nx.from_numpy_array(graph)\n",
    "    graph_sparse = scipy.sparse.csr_matrix(graph)\n",
    "    n = int(graph.sum())\n",
    "    not_graph_sparse = scipy.sparse.tril(graph_sparse).tocsr()\n",
    "    mst = scipy.sparse.csgraph.minimum_spanning_tree(not_graph_sparse)\n",
    "    mst[mst > 1] = 1\n",
    "    mst.eliminate_zeros()\n",
    "    ihatethis = not_graph_sparse - mst\n",
    "    ihatethis = ihatethis.asformat(\"array\")\n",
    "    none = np.array([[0. for j in range(n)] for i in range(n)])\n",
    "    return ihatethis != none\n",
    "    "
   ]
  },
  {
   "cell_type": "code",
   "execution_count": 54,
   "metadata": {
    "scrolled": true
   },
   "outputs": [
    {
     "name": "stdout",
     "output_type": "stream",
     "text": [
      "('x', tensor([[0., 1., 0., 0., 0., 6., 0., 0., 0., 0., 4.],\n",
      "        [1., 0., 0., 0., 0., 1., 0., 0., 0., 0., 0.],\n",
      "        [1., 0., 0., 0., 0., 1., 0., 0., 0., 0., 0.],\n",
      "        [1., 0., 0., 0., 0., 1., 0., 0., 0., 0., 0.],\n",
      "        [1., 0., 0., 0., 0., 1., 0., 0., 0., 0., 0.]]))\n",
      "('edge_index', tensor([[0, 0, 0, 0, 1, 2, 3, 4],\n",
      "        [1, 2, 3, 4, 0, 0, 0, 0]]))\n",
      "('edge_attr', tensor([[1., 0., 0., 0.],\n",
      "        [1., 0., 0., 0.],\n",
      "        [1., 0., 0., 0.],\n",
      "        [1., 0., 0., 0.],\n",
      "        [1., 0., 0., 0.],\n",
      "        [1., 0., 0., 0.],\n",
      "        [1., 0., 0., 0.],\n",
      "        [1., 0., 0., 0.]]))\n",
      "('y', tensor([[    0.0000,    13.2100,   -10.5499,     3.1865,    13.7363,    35.3641,\n",
      "             1.2177, -1101.4878, -1101.4098, -1101.3840, -1102.0229,     6.4690,\n",
      "           -17.1722,   -17.2868,   -17.3897,   -16.1519,   157.7118,   157.7100,\n",
      "           157.7070]]))\n",
      "('pos', tensor([[-1.2700e-02,  1.0858e+00,  8.0000e-03],\n",
      "        [ 2.2000e-03, -6.0000e-03,  2.0000e-03],\n",
      "        [ 1.0117e+00,  1.4638e+00,  3.0000e-04],\n",
      "        [-5.4080e-01,  1.4475e+00, -8.7660e-01],\n",
      "        [-5.2380e-01,  1.4379e+00,  9.0640e-01]]))\n",
      "('z', tensor([6, 1, 1, 1, 1]))\n",
      "('name', 'gdb_1')\n",
      "('idx', tensor([0]))\n"
     ]
    },
    {
     "name": "stderr",
     "output_type": "stream",
     "text": [
      "/var/folders/60/yjm0dhb14rx345qp3gt455mw0000gn/T/ipykernel_8553/3298640954.py:4: DeprecationWarning: \n",
      "\n",
      "The scipy.sparse array containers will be used instead of matrices\n",
      "in Networkx 3.0. Use `to_scipy_sparse_array` instead.\n",
      "  sample_mat = nx.to_scipy_sparse_matrix(sample)\n"
     ]
    }
   ],
   "source": [
    "meth, _ = pyg_to_ssm(0)"
   ]
  },
  {
   "cell_type": "code",
   "execution_count": 85,
   "metadata": {},
   "outputs": [
    {
     "data": {
      "text/plain": [
       "True"
      ]
     },
     "execution_count": 85,
     "metadata": {},
     "output_type": "execute_result"
    }
   ],
   "source": [
    "prims"
   ]
  },
  {
   "cell_type": "code",
   "execution_count": null,
   "metadata": {},
   "outputs": [],
   "source": []
  }
 ],
 "metadata": {
  "colab": {
   "collapsed_sections": [
    "7il0DFPVLQSh",
    "GkCQfTgVp0r5",
    "5e3tZdB7uT7t"
   ],
   "provenance": []
  },
  "gpuClass": "standard",
  "kernelspec": {
   "display_name": "Python 3 (ipykernel)",
   "language": "python",
   "name": "python3"
  },
  "language_info": {
   "codemirror_mode": {
    "name": "ipython",
    "version": 3
   },
   "file_extension": ".py",
   "mimetype": "text/x-python",
   "name": "python",
   "nbconvert_exporter": "python",
   "pygments_lexer": "ipython3",
   "version": "3.10.8"
  }
 },
 "nbformat": 4,
 "nbformat_minor": 1
}
